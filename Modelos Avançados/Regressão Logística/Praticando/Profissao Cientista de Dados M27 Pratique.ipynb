{
 "cells": [
  {
   "cell_type": "markdown",
   "metadata": {
    "id": "PobmBiSKLym_"
   },
   "source": [
    "# **MÓDULO 27 - Projeto de Doenças Cardiovasculares - Regressão Logística**\n"
   ]
  },
  {
   "cell_type": "markdown",
   "metadata": {
    "id": "dIJ_gU2nL6m5"
   },
   "source": [
    "Assim como na aula que trabalhamos com uma base de dados nova, com um contexto de modelo de propensão a compra de carros, para a atividade de vocês achei interessante trazer também novos desafios."
   ]
  },
  {
   "cell_type": "markdown",
   "metadata": {
    "id": "aa-GOAghMCvx"
   },
   "source": [
    "Nessa tarefa iremos construir um modelo que nos ajude a prever doenças cardiovasculares, a base contém dados reais.\n",
    "\n",
    "age - idade dos pacientes\n",
    "\n",
    "gender - genero (2 mulheres) (1 homens)\n",
    "\n",
    "height - altura dos pacientes\n",
    "\n",
    "weight - peso dos pacientes\n",
    "\n",
    "gluc - glicose\n",
    "\n",
    "smoke - fumante (1) não fumante (0)\n",
    "\n",
    "alco - consume alcool (1) não consome (0)\n",
    "\n",
    "active - realiza atividades fisicas (1) não realiza (0)\n",
    "\n",
    "cardio_disease - tem doença cardio (1) não tem (0) - Variável target\n"
   ]
  },
  {
   "cell_type": "markdown",
   "metadata": {
    "id": "cTmr2lSZM0sL"
   },
   "source": [
    "Seu objetivo é utilizar esses dados históricos dos pacientes e construir um bom modelo de regressão capaz de indicar se novos pacientes estão propensos a doenças cariovasculares ou não."
   ]
  },
  {
   "cell_type": "code",
   "execution_count": 38,
   "metadata": {
    "id": "TFFN0zwFNbwk"
   },
   "outputs": [],
   "source": [
    "import pandas as pd\n",
    "import matplotlib.pyplot as plt\n",
    "import seaborn as sns\n",
    "import numpy as np\n",
    "from sklearn.model_selection import train_test_split\n",
    "from sklearn.metrics import accuracy_score, classification_report\n",
    "from imblearn.over_sampling import SMOTE\n",
    "from sklearn.preprocessing import StandardScaler\n",
    "from sklearn.linear_model import LogisticRegression\n",
    "from sklearn.metrics import roc_curve, roc_auc_score, classification_report"
   ]
  },
  {
   "cell_type": "markdown",
   "metadata": {
    "id": "M61dablZM_2u"
   },
   "source": [
    "# 1) Comece carregando e tratando a base de dados.\n",
    "Assim como na aula essa nova base não passou por pré processamento nenhum então nessa etapa, carrega os dados, verifique os tipos de dados, verifique se temos dados faltantes e outliers.\n",
    "Quando necessário realize o tratamento.\n"
   ]
  },
  {
   "cell_type": "code",
   "execution_count": 6,
   "metadata": {
    "id": "MbWSSB26Lx-A"
   },
   "outputs": [
    {
     "data": {
      "text/html": [
       "<div>\n",
       "<style scoped>\n",
       "    .dataframe tbody tr th:only-of-type {\n",
       "        vertical-align: middle;\n",
       "    }\n",
       "\n",
       "    .dataframe tbody tr th {\n",
       "        vertical-align: top;\n",
       "    }\n",
       "\n",
       "    .dataframe thead th {\n",
       "        text-align: right;\n",
       "    }\n",
       "</style>\n",
       "<table border=\"1\" class=\"dataframe\">\n",
       "  <thead>\n",
       "    <tr style=\"text-align: right;\">\n",
       "      <th></th>\n",
       "      <th>age</th>\n",
       "      <th>gender</th>\n",
       "      <th>height</th>\n",
       "      <th>weight</th>\n",
       "      <th>cholesterol</th>\n",
       "      <th>gluc</th>\n",
       "      <th>smoke</th>\n",
       "      <th>alco</th>\n",
       "      <th>active</th>\n",
       "      <th>cardio_disease</th>\n",
       "    </tr>\n",
       "  </thead>\n",
       "  <tbody>\n",
       "    <tr>\n",
       "      <th>0</th>\n",
       "      <td>50</td>\n",
       "      <td>2</td>\n",
       "      <td>168</td>\n",
       "      <td>62</td>\n",
       "      <td>1</td>\n",
       "      <td>1</td>\n",
       "      <td>0</td>\n",
       "      <td>0</td>\n",
       "      <td>1</td>\n",
       "      <td>0</td>\n",
       "    </tr>\n",
       "    <tr>\n",
       "      <th>1</th>\n",
       "      <td>55</td>\n",
       "      <td>1</td>\n",
       "      <td>156</td>\n",
       "      <td>85</td>\n",
       "      <td>3</td>\n",
       "      <td>1</td>\n",
       "      <td>0</td>\n",
       "      <td>0</td>\n",
       "      <td>1</td>\n",
       "      <td>1</td>\n",
       "    </tr>\n",
       "    <tr>\n",
       "      <th>2</th>\n",
       "      <td>52</td>\n",
       "      <td>1</td>\n",
       "      <td>165</td>\n",
       "      <td>64</td>\n",
       "      <td>3</td>\n",
       "      <td>1</td>\n",
       "      <td>0</td>\n",
       "      <td>0</td>\n",
       "      <td>0</td>\n",
       "      <td>1</td>\n",
       "    </tr>\n",
       "    <tr>\n",
       "      <th>3</th>\n",
       "      <td>48</td>\n",
       "      <td>2</td>\n",
       "      <td>169</td>\n",
       "      <td>82</td>\n",
       "      <td>1</td>\n",
       "      <td>1</td>\n",
       "      <td>0</td>\n",
       "      <td>0</td>\n",
       "      <td>1</td>\n",
       "      <td>1</td>\n",
       "    </tr>\n",
       "    <tr>\n",
       "      <th>4</th>\n",
       "      <td>48</td>\n",
       "      <td>1</td>\n",
       "      <td>156</td>\n",
       "      <td>56</td>\n",
       "      <td>1</td>\n",
       "      <td>1</td>\n",
       "      <td>0</td>\n",
       "      <td>0</td>\n",
       "      <td>0</td>\n",
       "      <td>0</td>\n",
       "    </tr>\n",
       "  </tbody>\n",
       "</table>\n",
       "</div>"
      ],
      "text/plain": [
       "   age  gender  height weight  cholesterol  gluc  smoke  alco  active  \\\n",
       "0   50       2     168     62            1     1      0     0       1   \n",
       "1   55       1     156     85            3     1      0     0       1   \n",
       "2   52       1     165     64            3     1      0     0       0   \n",
       "3   48       2     169     82            1     1      0     0       1   \n",
       "4   48       1     156     56            1     1      0     0       0   \n",
       "\n",
       "   cardio_disease  \n",
       "0               0  \n",
       "1               1  \n",
       "2               1  \n",
       "3               1  \n",
       "4               0  "
      ]
     },
     "execution_count": 6,
     "metadata": {},
     "output_type": "execute_result"
    }
   ],
   "source": [
    "base = pd.read_csv(\"CARDIO_BASE.csv\", delimiter=';')\n",
    "base.head()"
   ]
  },
  {
   "cell_type": "code",
   "execution_count": 7,
   "metadata": {
    "id": "2grTowkLcBOf"
   },
   "outputs": [
    {
     "name": "stdout",
     "output_type": "stream",
     "text": [
      "<class 'pandas.core.frame.DataFrame'>\n",
      "RangeIndex: 10000 entries, 0 to 9999\n",
      "Data columns (total 10 columns):\n",
      " #   Column          Non-Null Count  Dtype \n",
      "---  ------          --------------  ----- \n",
      " 0   age             10000 non-null  int64 \n",
      " 1   gender          10000 non-null  int64 \n",
      " 2   height          10000 non-null  int64 \n",
      " 3   weight          10000 non-null  object\n",
      " 4   cholesterol     10000 non-null  int64 \n",
      " 5   gluc            10000 non-null  int64 \n",
      " 6   smoke           10000 non-null  int64 \n",
      " 7   alco            10000 non-null  int64 \n",
      " 8   active          10000 non-null  int64 \n",
      " 9   cardio_disease  10000 non-null  int64 \n",
      "dtypes: int64(9), object(1)\n",
      "memory usage: 781.4+ KB\n"
     ]
    }
   ],
   "source": [
    "base.info()"
   ]
  },
  {
   "cell_type": "code",
   "execution_count": 30,
   "metadata": {},
   "outputs": [],
   "source": [
    "base['weight'] = base['weight'].str.replace(',','.')\n",
    "base['weight'] = base['weight'].astype('Float64')"
   ]
  },
  {
   "cell_type": "code",
   "execution_count": 31,
   "metadata": {},
   "outputs": [
    {
     "data": {
      "text/html": [
       "<div>\n",
       "<style scoped>\n",
       "    .dataframe tbody tr th:only-of-type {\n",
       "        vertical-align: middle;\n",
       "    }\n",
       "\n",
       "    .dataframe tbody tr th {\n",
       "        vertical-align: top;\n",
       "    }\n",
       "\n",
       "    .dataframe thead th {\n",
       "        text-align: right;\n",
       "    }\n",
       "</style>\n",
       "<table border=\"1\" class=\"dataframe\">\n",
       "  <thead>\n",
       "    <tr style=\"text-align: right;\">\n",
       "      <th></th>\n",
       "      <th>age</th>\n",
       "      <th>gender</th>\n",
       "      <th>height</th>\n",
       "      <th>weight</th>\n",
       "      <th>cholesterol</th>\n",
       "      <th>gluc</th>\n",
       "      <th>smoke</th>\n",
       "      <th>alco</th>\n",
       "      <th>active</th>\n",
       "      <th>cardio_disease</th>\n",
       "    </tr>\n",
       "  </thead>\n",
       "  <tbody>\n",
       "    <tr>\n",
       "      <th>count</th>\n",
       "      <td>10000.000000</td>\n",
       "      <td>10000.000000</td>\n",
       "      <td>10000.000000</td>\n",
       "      <td>10000.0</td>\n",
       "      <td>10000.000000</td>\n",
       "      <td>10000.000000</td>\n",
       "      <td>10000.000000</td>\n",
       "      <td>10000.000000</td>\n",
       "      <td>10000.000000</td>\n",
       "      <td>10000.000000</td>\n",
       "    </tr>\n",
       "    <tr>\n",
       "      <th>mean</th>\n",
       "      <td>53.288300</td>\n",
       "      <td>1.345400</td>\n",
       "      <td>164.308200</td>\n",
       "      <td>74.30371</td>\n",
       "      <td>1.365000</td>\n",
       "      <td>1.222200</td>\n",
       "      <td>0.089000</td>\n",
       "      <td>0.053700</td>\n",
       "      <td>0.797200</td>\n",
       "      <td>0.503100</td>\n",
       "    </tr>\n",
       "    <tr>\n",
       "      <th>std</th>\n",
       "      <td>6.796234</td>\n",
       "      <td>0.475522</td>\n",
       "      <td>8.178796</td>\n",
       "      <td>14.566353</td>\n",
       "      <td>0.677658</td>\n",
       "      <td>0.565561</td>\n",
       "      <td>0.284758</td>\n",
       "      <td>0.225436</td>\n",
       "      <td>0.402105</td>\n",
       "      <td>0.500015</td>\n",
       "    </tr>\n",
       "    <tr>\n",
       "      <th>min</th>\n",
       "      <td>30.000000</td>\n",
       "      <td>1.000000</td>\n",
       "      <td>70.000000</td>\n",
       "      <td>30.0</td>\n",
       "      <td>1.000000</td>\n",
       "      <td>1.000000</td>\n",
       "      <td>0.000000</td>\n",
       "      <td>0.000000</td>\n",
       "      <td>0.000000</td>\n",
       "      <td>0.000000</td>\n",
       "    </tr>\n",
       "    <tr>\n",
       "      <th>25%</th>\n",
       "      <td>48.000000</td>\n",
       "      <td>1.000000</td>\n",
       "      <td>159.000000</td>\n",
       "      <td>65.0</td>\n",
       "      <td>1.000000</td>\n",
       "      <td>1.000000</td>\n",
       "      <td>0.000000</td>\n",
       "      <td>0.000000</td>\n",
       "      <td>1.000000</td>\n",
       "      <td>0.000000</td>\n",
       "    </tr>\n",
       "    <tr>\n",
       "      <th>50%</th>\n",
       "      <td>54.000000</td>\n",
       "      <td>1.000000</td>\n",
       "      <td>165.000000</td>\n",
       "      <td>72.0</td>\n",
       "      <td>1.000000</td>\n",
       "      <td>1.000000</td>\n",
       "      <td>0.000000</td>\n",
       "      <td>0.000000</td>\n",
       "      <td>1.000000</td>\n",
       "      <td>1.000000</td>\n",
       "    </tr>\n",
       "    <tr>\n",
       "      <th>75%</th>\n",
       "      <td>58.000000</td>\n",
       "      <td>2.000000</td>\n",
       "      <td>170.000000</td>\n",
       "      <td>82.0</td>\n",
       "      <td>2.000000</td>\n",
       "      <td>1.000000</td>\n",
       "      <td>0.000000</td>\n",
       "      <td>0.000000</td>\n",
       "      <td>1.000000</td>\n",
       "      <td>1.000000</td>\n",
       "    </tr>\n",
       "    <tr>\n",
       "      <th>max</th>\n",
       "      <td>65.000000</td>\n",
       "      <td>2.000000</td>\n",
       "      <td>250.000000</td>\n",
       "      <td>200.0</td>\n",
       "      <td>3.000000</td>\n",
       "      <td>3.000000</td>\n",
       "      <td>1.000000</td>\n",
       "      <td>1.000000</td>\n",
       "      <td>1.000000</td>\n",
       "      <td>1.000000</td>\n",
       "    </tr>\n",
       "  </tbody>\n",
       "</table>\n",
       "</div>"
      ],
      "text/plain": [
       "                age        gender        height     weight   cholesterol  \\\n",
       "count  10000.000000  10000.000000  10000.000000    10000.0  10000.000000   \n",
       "mean      53.288300      1.345400    164.308200   74.30371      1.365000   \n",
       "std        6.796234      0.475522      8.178796  14.566353      0.677658   \n",
       "min       30.000000      1.000000     70.000000       30.0      1.000000   \n",
       "25%       48.000000      1.000000    159.000000       65.0      1.000000   \n",
       "50%       54.000000      1.000000    165.000000       72.0      1.000000   \n",
       "75%       58.000000      2.000000    170.000000       82.0      2.000000   \n",
       "max       65.000000      2.000000    250.000000      200.0      3.000000   \n",
       "\n",
       "               gluc         smoke          alco        active  cardio_disease  \n",
       "count  10000.000000  10000.000000  10000.000000  10000.000000    10000.000000  \n",
       "mean       1.222200      0.089000      0.053700      0.797200        0.503100  \n",
       "std        0.565561      0.284758      0.225436      0.402105        0.500015  \n",
       "min        1.000000      0.000000      0.000000      0.000000        0.000000  \n",
       "25%        1.000000      0.000000      0.000000      1.000000        0.000000  \n",
       "50%        1.000000      0.000000      0.000000      1.000000        1.000000  \n",
       "75%        1.000000      0.000000      0.000000      1.000000        1.000000  \n",
       "max        3.000000      1.000000      1.000000      1.000000        1.000000  "
      ]
     },
     "execution_count": 31,
     "metadata": {},
     "output_type": "execute_result"
    }
   ],
   "source": [
    "base.describe()"
   ]
  },
  {
   "cell_type": "code",
   "execution_count": 39,
   "metadata": {},
   "outputs": [],
   "source": [
    "# tratando outliers em height\n",
    "\n",
    "base['height'] = base['height'].apply(lambda x: x if x > 140 and x <210 else np.mean(base['height']))"
   ]
  },
  {
   "cell_type": "code",
   "execution_count": 40,
   "metadata": {},
   "outputs": [],
   "source": [
    "# tratando outliers em weight\n",
    "\n",
    "base['weight'] = base['weight'].apply(lambda x: x if x > 45 and x <210 else np.mean(base['weight']))"
   ]
  },
  {
   "cell_type": "markdown",
   "metadata": {
    "id": "mxWjbX6bN4WC"
   },
   "source": [
    "# 2) Agora é hora de explorar os dados com uma análise bem completa.\n",
    "Plote pelo menos 3 gráficos analisando o comportamento da variável cardio com outras variaveis da sua preferência (análise bivariada). Não se esqueça de trazer insights acerca do analisado.\n"
   ]
  },
  {
   "cell_type": "code",
   "execution_count": 11,
   "metadata": {
    "id": "_Wt2QFAscFfi"
   },
   "outputs": [
    {
     "data": {
      "image/png": "[encoded data removed]",
      "text/plain": [
       "<Figure size 800x500 with 1 Axes>"
      ]
     },
     "metadata": {},
     "output_type": "display_data"
    }
   ],
   "source": [
    "# cardio_disease x age\n",
    "plt.figure(figsize=(8,5))\n",
    "sns.boxplot(data=base, x=\"cardio_disease\", y=\"age\")\n",
    "plt.xlabel(\"Grupo\")\n",
    "plt.ylabel(\"Idade\")\n",
    "plt.title(\"Idade por presença de doença (boxplot)\")\n",
    "plt.tight_layout()\n",
    "plt.show()\n"
   ]
  },
  {
   "cell_type": "markdown",
   "metadata": {},
   "source": [
    "O boxplot mostra que pacientes com doença cardíaca (grupo 1) tendem a ser mais velhos do que os sem a doença (grupo 0). A mediana da idade é maior no grupo doente, e a dispersão também é mais concentrada em idades mais elevadas. Isso sugere que a idade é um fator relevante na presença de doenças cardíacas, como ja era de se imaginar."
   ]
  },
  {
   "cell_type": "code",
   "execution_count": 16,
   "metadata": {},
   "outputs": [
    {
     "data": {
      "image/png": "[encoded data removed]",
      "text/plain": [
       "<Figure size 1000x600 with 1 Axes>"
      ]
     },
     "metadata": {},
     "output_type": "display_data"
    }
   ],
   "source": [
    "# cardio disease x active\n",
    "plt.figure(figsize=(10,6))\n",
    "sns.countplot(data=base, x=\"active\", hue=\"cardio_disease\")\n",
    "plt.xlabel(\"Ativo (0 = não, 1 = sim)\")\n",
    "plt.ylabel(\"Contagem\")\n",
    "plt.title(\"Atividade física vs doença cardíaca\")\n",
    "plt.legend(title=\"Doença cardíaca\", labels=[\"Não\", \"Sim\"])\n",
    "plt.tight_layout()\n",
    "plt.show()\n"
   ]
  },
  {
   "cell_type": "markdown",
   "metadata": {},
   "source": [
    "O gráfico de barras indica que tanto pessoas ativas quanto inativas podem apresentar doença cardíaca. Entretanto, mesmo entre os indivíduos ativos (active = 1), há uma proporção considerável de casos com a doença. Isso mostra que a prática de atividade física, apesar de importante, não é um fator isolado de proteção e deve ser analisada em conjunto com outras variáveis, como alimentação e histórico clínico."
   ]
  },
  {
   "cell_type": "code",
   "execution_count": 20,
   "metadata": {},
   "outputs": [
    {
     "data": {
      "image/png": "[encoded data removed]",
      "text/plain": [
       "<Figure size 1000x600 with 1 Axes>"
      ]
     },
     "metadata": {},
     "output_type": "display_data"
    }
   ],
   "source": [
    "# cardio disease x álcool\n",
    "plt.figure(figsize=(10,6))\n",
    "sns.countplot(data=base, x=\"alco\", hue=\"cardio_disease\")\n",
    "plt.xlabel(\"Consome álcool (0 = não, 1 = sim)\")\n",
    "plt.ylabel(\"Contagem\")\n",
    "plt.title(\"Consumir álcool vs doença cardíaca\")\n",
    "plt.legend(title=\"Doença cardiáca\", labels=[\"Não\", \"Sim\"])\n",
    "plt.tight_layout()\n",
    "plt.show()\n"
   ]
  },
  {
   "cell_type": "markdown",
   "metadata": {},
   "source": [
    "O gráfico de barras indica que tanto pessoas ativas quanto inativas podem apresentar doença cardíaca. Entretanto, mesmo entre os indivíduos ativos (active = 1), há uma proporção considerável de casos com a doença. Isso mostra que a prática de atividade física, apesar de importante, não é um fator isolado de proteção e deve ser analisada em conjunto com outras variáveis, como alimentação e histórico clínico."
   ]
  },
  {
   "cell_type": "markdown",
   "metadata": {},
   "source": [
    "A partir das análises realizadas, observa-se que a idade apresenta uma relação mais clara com a presença de doenças cardíacas, enquanto variáveis como atividade física e consumo de álcool, quando analisadas de forma isolada, não evidenciam associação direta. Isso leva ao entendimento de que o risco cardiovascular não pode ser explicado por um único atributo, mas sim por um conjunto de fatores que interagem entre si."
   ]
  },
  {
   "cell_type": "markdown",
   "metadata": {
    "id": "q3JQx0UtO6Bh"
   },
   "source": [
    "# 3) Nessa etapa você deve trazer a matriz de correlação e apontar insights acerca das variáveis com um relacionamento mais forte entre si.\n",
    "\n"
   ]
  },
  {
   "cell_type": "code",
   "execution_count": 41,
   "metadata": {
    "id": "C9DhcRThcGvZ"
   },
   "outputs": [
    {
     "data": {
      "text/html": [
       "<div>\n",
       "<style scoped>\n",
       "    .dataframe tbody tr th:only-of-type {\n",
       "        vertical-align: middle;\n",
       "    }\n",
       "\n",
       "    .dataframe tbody tr th {\n",
       "        vertical-align: top;\n",
       "    }\n",
       "\n",
       "    .dataframe thead th {\n",
       "        text-align: right;\n",
       "    }\n",
       "</style>\n",
       "<table border=\"1\" class=\"dataframe\">\n",
       "  <thead>\n",
       "    <tr style=\"text-align: right;\">\n",
       "      <th></th>\n",
       "      <th>age</th>\n",
       "      <th>gender</th>\n",
       "      <th>height</th>\n",
       "      <th>weight</th>\n",
       "      <th>cholesterol</th>\n",
       "      <th>gluc</th>\n",
       "      <th>smoke</th>\n",
       "      <th>alco</th>\n",
       "      <th>active</th>\n",
       "      <th>cardio_disease</th>\n",
       "    </tr>\n",
       "  </thead>\n",
       "  <tbody>\n",
       "    <tr>\n",
       "      <th>age</th>\n",
       "      <td>1.000000</td>\n",
       "      <td>-0.016550</td>\n",
       "      <td>-0.089976</td>\n",
       "      <td>0.045084</td>\n",
       "      <td>0.172934</td>\n",
       "      <td>0.091026</td>\n",
       "      <td>-0.049640</td>\n",
       "      <td>-0.043592</td>\n",
       "      <td>-0.022665</td>\n",
       "      <td>0.237076</td>\n",
       "    </tr>\n",
       "    <tr>\n",
       "      <th>gender</th>\n",
       "      <td>-0.016550</td>\n",
       "      <td>1.000000</td>\n",
       "      <td>0.524508</td>\n",
       "      <td>0.144629</td>\n",
       "      <td>-0.032808</td>\n",
       "      <td>-0.025837</td>\n",
       "      <td>0.332060</td>\n",
       "      <td>0.179608</td>\n",
       "      <td>0.011753</td>\n",
       "      <td>0.002226</td>\n",
       "    </tr>\n",
       "    <tr>\n",
       "      <th>height</th>\n",
       "      <td>-0.089976</td>\n",
       "      <td>0.524508</td>\n",
       "      <td>1.000000</td>\n",
       "      <td>0.296014</td>\n",
       "      <td>-0.054023</td>\n",
       "      <td>-0.029513</td>\n",
       "      <td>0.203742</td>\n",
       "      <td>0.115104</td>\n",
       "      <td>-0.007934</td>\n",
       "      <td>-0.013753</td>\n",
       "    </tr>\n",
       "    <tr>\n",
       "      <th>weight</th>\n",
       "      <td>0.045084</td>\n",
       "      <td>0.144629</td>\n",
       "      <td>0.296014</td>\n",
       "      <td>1.000000</td>\n",
       "      <td>0.130723</td>\n",
       "      <td>0.099633</td>\n",
       "      <td>0.064387</td>\n",
       "      <td>0.078474</td>\n",
       "      <td>-0.016605</td>\n",
       "      <td>0.180716</td>\n",
       "    </tr>\n",
       "    <tr>\n",
       "      <th>cholesterol</th>\n",
       "      <td>0.172934</td>\n",
       "      <td>-0.032808</td>\n",
       "      <td>-0.054023</td>\n",
       "      <td>0.130723</td>\n",
       "      <td>1.000000</td>\n",
       "      <td>0.431599</td>\n",
       "      <td>0.024436</td>\n",
       "      <td>0.019636</td>\n",
       "      <td>0.018799</td>\n",
       "      <td>0.221273</td>\n",
       "    </tr>\n",
       "    <tr>\n",
       "      <th>gluc</th>\n",
       "      <td>0.091026</td>\n",
       "      <td>-0.025837</td>\n",
       "      <td>-0.029513</td>\n",
       "      <td>0.099633</td>\n",
       "      <td>0.431599</td>\n",
       "      <td>1.000000</td>\n",
       "      <td>0.017538</td>\n",
       "      <td>0.013867</td>\n",
       "      <td>0.004671</td>\n",
       "      <td>0.082441</td>\n",
       "    </tr>\n",
       "    <tr>\n",
       "      <th>smoke</th>\n",
       "      <td>-0.049640</td>\n",
       "      <td>0.332060</td>\n",
       "      <td>0.203742</td>\n",
       "      <td>0.064387</td>\n",
       "      <td>0.024436</td>\n",
       "      <td>0.017538</td>\n",
       "      <td>1.000000</td>\n",
       "      <td>0.329043</td>\n",
       "      <td>0.031873</td>\n",
       "      <td>-0.018093</td>\n",
       "    </tr>\n",
       "    <tr>\n",
       "      <th>alco</th>\n",
       "      <td>-0.043592</td>\n",
       "      <td>0.179608</td>\n",
       "      <td>0.115104</td>\n",
       "      <td>0.078474</td>\n",
       "      <td>0.019636</td>\n",
       "      <td>0.013867</td>\n",
       "      <td>0.329043</td>\n",
       "      <td>1.000000</td>\n",
       "      <td>0.037405</td>\n",
       "      <td>-0.006357</td>\n",
       "    </tr>\n",
       "    <tr>\n",
       "      <th>active</th>\n",
       "      <td>-0.022665</td>\n",
       "      <td>0.011753</td>\n",
       "      <td>-0.007934</td>\n",
       "      <td>-0.016605</td>\n",
       "      <td>0.018799</td>\n",
       "      <td>0.004671</td>\n",
       "      <td>0.031873</td>\n",
       "      <td>0.037405</td>\n",
       "      <td>1.000000</td>\n",
       "      <td>-0.039153</td>\n",
       "    </tr>\n",
       "    <tr>\n",
       "      <th>cardio_disease</th>\n",
       "      <td>0.237076</td>\n",
       "      <td>0.002226</td>\n",
       "      <td>-0.013753</td>\n",
       "      <td>0.180716</td>\n",
       "      <td>0.221273</td>\n",
       "      <td>0.082441</td>\n",
       "      <td>-0.018093</td>\n",
       "      <td>-0.006357</td>\n",
       "      <td>-0.039153</td>\n",
       "      <td>1.000000</td>\n",
       "    </tr>\n",
       "  </tbody>\n",
       "</table>\n",
       "</div>"
      ],
      "text/plain": [
       "                     age    gender    height    weight  cholesterol      gluc  \\\n",
       "age             1.000000 -0.016550 -0.089976  0.045084     0.172934  0.091026   \n",
       "gender         -0.016550  1.000000  0.524508  0.144629    -0.032808 -0.025837   \n",
       "height         -0.089976  0.524508  1.000000  0.296014    -0.054023 -0.029513   \n",
       "weight          0.045084  0.144629  0.296014  1.000000     0.130723  0.099633   \n",
       "cholesterol     0.172934 -0.032808 -0.054023  0.130723     1.000000  0.431599   \n",
       "gluc            0.091026 -0.025837 -0.029513  0.099633     0.431599  1.000000   \n",
       "smoke          -0.049640  0.332060  0.203742  0.064387     0.024436  0.017538   \n",
       "alco           -0.043592  0.179608  0.115104  0.078474     0.019636  0.013867   \n",
       "active         -0.022665  0.011753 -0.007934 -0.016605     0.018799  0.004671   \n",
       "cardio_disease  0.237076  0.002226 -0.013753  0.180716     0.221273  0.082441   \n",
       "\n",
       "                   smoke      alco    active  cardio_disease  \n",
       "age            -0.049640 -0.043592 -0.022665        0.237076  \n",
       "gender          0.332060  0.179608  0.011753        0.002226  \n",
       "height          0.203742  0.115104 -0.007934       -0.013753  \n",
       "weight          0.064387  0.078474 -0.016605        0.180716  \n",
       "cholesterol     0.024436  0.019636  0.018799        0.221273  \n",
       "gluc            0.017538  0.013867  0.004671        0.082441  \n",
       "smoke           1.000000  0.329043  0.031873       -0.018093  \n",
       "alco            0.329043  1.000000  0.037405       -0.006357  \n",
       "active          0.031873  0.037405  1.000000       -0.039153  \n",
       "cardio_disease -0.018093 -0.006357 -0.039153        1.000000  "
      ]
     },
     "execution_count": 41,
     "metadata": {},
     "output_type": "execute_result"
    }
   ],
   "source": [
    "base.corr()"
   ]
  },
  {
   "cell_type": "code",
   "execution_count": null,
   "metadata": {},
   "outputs": [
    {
     "data": {
      "text/plain": [
       "<Axes: >"
      ]
     },
     "execution_count": 44,
     "metadata": {},
     "output_type": "execute_result"
    },
    {
     "data": {
      "image/png": "[encoded data removed]",
      "text/plain": [
       "<Figure size 1000x600 with 2 Axes>"
      ]
     },
     "metadata": {},
     "output_type": "display_data"
    }
   ],
   "source": [
    "# plotando a matriz de coorrelação\n",
    "plt.figure(figsize=(10,6))\n",
    "sns.heatmap(data=base.corr())"
   ]
  },
  {
   "cell_type": "markdown",
   "metadata": {},
   "source": [
    "Algumas variáveis apresentam correlações interessantes entre sí, como gender e height, glicose e colesterol e smoke com alcool e gender. Entretanto a correlação mais forte com a variável target é de age com cardio_disease, que é apenas de 0,2, essa fraca correlação demonstra que doenças cardíacas são multifatoriais e podem estar relacionadas com outros fatores não encontrados no dataset."
   ]
  },
  {
   "cell_type": "markdown",
   "metadata": {
    "id": "2gXd-NZrP0M8"
   },
   "source": [
    "# 4) Essa é a sua última etapa pré modelo. Você deve:\n",
    "\n",
    "A) Separar a base em treino e teste.\n",
    "\n",
    "B) Você considera que essa base precisa que os dados sejam padronizados? Se sim, porque? Se acredita que devem, então realize essa etapa.\n",
    "\n",
    "C) Verifique se os dados estão balanceados, se não, faça o balanceamento.\n",
    "\n",
    "\n",
    "D) Visualize as bases de treino, teste (X E Y) e verifique se está tudo adequado."
   ]
  },
  {
   "cell_type": "code",
   "execution_count": 45,
   "metadata": {
    "id": "O3FgZPf5cI9W"
   },
   "outputs": [],
   "source": [
    "# separando a base em treino e teste\n",
    "X = base.drop('cardio_disease', axis=1)\n",
    "y = base['cardio_disease']\n",
    "X_train, X_test, y_train, y_test = train_test_split(X, y, test_size=0.3, random_state=42, stratify=y)"
   ]
  },
  {
   "cell_type": "code",
   "execution_count": 46,
   "metadata": {},
   "outputs": [],
   "source": [
    "# Padronizando os dados de treino e teste\n",
    "scaler = StandardScaler()\n",
    "X_train = scaler.fit_transform(X_train)\n",
    "X_test = scaler.transform(X_test)"
   ]
  },
  {
   "cell_type": "code",
   "execution_count": 57,
   "metadata": {},
   "outputs": [
    {
     "name": "stdout",
     "output_type": "stream",
     "text": [
      "Treino: [[-0.04193779 -0.72208614  0.4528924   0.31946494 -0.54463709 -0.39443059\n",
      "  -0.31338712 -0.23958675  0.50490601]\n",
      " [ 1.57671368 -0.72208614 -0.18893217 -0.37863235  2.40390091  3.14760161\n",
      "  -0.31338712 -0.23958675  0.50490601]\n",
      " [ 0.69381288 -0.72208614  1.09471698  0.38927467  0.92963191  1.37658551\n",
      "   3.19094165 -0.23958675  0.50490601]\n",
      " [ 1.28241341  1.38487633 -0.31729709 -0.5182518  -0.54463709 -0.39443059\n",
      "   3.19094165 -0.23958675  0.50490601]\n",
      " [-0.18908792  1.38487633  1.73654156 -0.5182518  -0.54463709 -0.39443059\n",
      "  -0.31338712 -0.23958675  0.50490601]] \n",
      "\n",
      " Teste: [[ 0.54666274  1.38487633  0.96635207 -0.16920316  2.40390091 -0.39443059\n",
      "  -0.31338712 -0.23958675  0.50490601]\n",
      " [-1.66058925 -0.72208614  0.4528924  -1.14653936 -0.54463709 -0.39443059\n",
      "  -0.31338712 -0.23958675  0.50490601]\n",
      " [ 0.10521235  1.38487633  0.70962224  1.01756223 -0.54463709  3.14760161\n",
      "  -0.31338712 -0.23958675  0.50490601]\n",
      " [-1.36628899  1.38487633  0.4528924  -0.16920316 -0.54463709 -0.39443059\n",
      "  -0.31338712 -0.23958675  0.50490601]\n",
      " [ 0.69381288 -0.72208614 -0.83075675 -0.23901289 -0.54463709 -0.39443059\n",
      "  -0.31338712 -0.23958675 -1.98056663]]\n"
     ]
    }
   ],
   "source": [
    "# dados depois da padronização\n",
    "print(f'Treino: {X_train[:5]} \\n\\n Teste: {X_test[:5]}')"
   ]
  },
  {
   "cell_type": "markdown",
   "metadata": {},
   "source": [
    "Achei necessário padronizar a base pois \"age\", \"height\" e \"weight\" estavam em escalas muito diferentes se comparadas entre sí e com os outros atributos booleanos."
   ]
  },
  {
   "cell_type": "code",
   "execution_count": 47,
   "metadata": {},
   "outputs": [
    {
     "name": "stdout",
     "output_type": "stream",
     "text": [
      "Distribuição original dos rótulos: cardio_disease\n",
      "1    3522\n",
      "0    3478\n",
      "Name: count, dtype: int64\n",
      "Distribuição dos rótulos após SMOTE: cardio_disease\n",
      "0    3522\n",
      "1    3522\n",
      "Name: count, dtype: int64\n"
     ]
    }
   ],
   "source": [
    "# balanceando a base de treino com SMOTE\n",
    "print(\"Distribuição original dos rótulos:\", y_train.value_counts())\n",
    "smote = SMOTE(random_state=42)\n",
    "X_train, y_train = smote.fit_resample(X_train, y_train)\n",
    "print(\"Distribuição dos rótulos após SMOTE:\", y_train.value_counts())"
   ]
  },
  {
   "cell_type": "markdown",
   "metadata": {},
   "source": [
    "Ao checar a distribuição original na variável target, é perceptível que ela está bem balanceada, mas optei por aplicar o smote mesmo assim para fixar o conteúdo aprendido"
   ]
  },
  {
   "cell_type": "code",
   "execution_count": null,
   "metadata": {},
   "outputs": [
    {
     "name": "stdout",
     "output_type": "stream",
     "text": [
      "Tamanho do conjunto de treino: (7044, 9) (7044,)\n",
      "Tamanho do conjunto de teste: (3000, 9) (3000,)\n"
     ]
    }
   ],
   "source": [
    "# verificando as bases\n",
    "print(\"Tamanho do conjunto de treino:\", X_train.shape, y_train.shape)\n",
    "print(\"Tamanho do conjunto de teste:\", X_test.shape, y_test.shape)"
   ]
  },
  {
   "cell_type": "markdown",
   "metadata": {
    "id": "tkZP0RS7Q0lG"
   },
   "source": [
    "# 5) Realize a etapa de treinamento do modelo:\n",
    "\n",
    "A) Faça o treinamento do modelo.\n",
    "\n",
    "B) Traga o intercept e os coeficientes.\n",
    "\n",
    "c) Avalie as métricas do modelo treinado\n",
    "\n",
    "D) Justifique se te parece que o modelo tem feito boas previsões ou não."
   ]
  },
  {
   "cell_type": "code",
   "execution_count": 49,
   "metadata": {
    "id": "gGFt320QcKqL"
   },
   "outputs": [
    {
     "name": "stdout",
     "output_type": "stream",
     "text": [
      "Intercept: [0.01662699]\n",
      "Coeficientes: [[ 0.43122368  0.01423422 -0.10152837  0.38166398  0.41015196 -0.05401193\n",
      "  -0.01634088 -0.00359216 -0.089731  ]]\n"
     ]
    }
   ],
   "source": [
    "# treinando o modelo\n",
    "model = LogisticRegression()\n",
    "model.fit(X_train, y_train)\n",
    "\n",
    "# trazendo o intercept e os coeficientes\n",
    "print(\"Intercept:\", model.intercept_)\n",
    "print(\"Coeficientes:\", model.coef_)"
   ]
  },
  {
   "cell_type": "code",
   "execution_count": 58,
   "metadata": {},
   "outputs": [
    {
     "name": "stdout",
     "output_type": "stream",
     "text": [
      "Relatório de Classificação:\n",
      "               precision    recall  f1-score   support\n",
      "\n",
      "           0       0.63      0.67      0.65      3522\n",
      "           1       0.65      0.60      0.63      3522\n",
      "\n",
      "    accuracy                           0.64      7044\n",
      "   macro avg       0.64      0.64      0.64      7044\n",
      "weighted avg       0.64      0.64      0.64      7044\n",
      "\n"
     ]
    }
   ],
   "source": [
    "# avaliando as métricas\n",
    "y_pred_train = model.predict(X_train)\n",
    "classification_rep = classification_report(y_train, y_pred_train)\n",
    "print(\"Relatório de Classificação:\\n\", classification_rep)"
   ]
  },
  {
   "cell_type": "markdown",
   "metadata": {},
   "source": [
    "O modelo apresenta um desempenho moderado nos dados de treinamento, com acurácia e métricas equilibradas, mas não é robusto o suficiente para uma aplicação crítica como a previsão de doenças cardíacas."
   ]
  },
  {
   "cell_type": "markdown",
   "metadata": {
    "id": "bXzPKyRqR8B8"
   },
   "source": [
    "# 6) Teste seu modelo!\n",
    "\n",
    "A) Aplique o modelo aos dados de teste.\n",
    "\n",
    "B) Avalie as métricas do modelo treinado\n",
    "\n",
    "C) Plote o gráfico da curva AUC-ROC e explique o que consegue analisar através do gráfico."
   ]
  },
  {
   "cell_type": "code",
   "execution_count": 59,
   "metadata": {
    "id": "9bIs8TRDcMGm"
   },
   "outputs": [
    {
     "name": "stdout",
     "output_type": "stream",
     "text": [
      "Relatório de Classificação:\n",
      "               precision    recall  f1-score   support\n",
      "\n",
      "           0       0.62      0.67      0.65      1491\n",
      "           1       0.65      0.60      0.63      1509\n",
      "\n",
      "    accuracy                           0.64      3000\n",
      "   macro avg       0.64      0.64      0.64      3000\n",
      "weighted avg       0.64      0.64      0.64      3000\n",
      "\n"
     ]
    }
   ],
   "source": [
    "# aplicando o modelo nos dados de teste\n",
    "y_pred = model.predict(X_test)\n",
    "classification_rep = classification_report(y_test, y_pred)\n",
    "print(\"Relatório de Classificação:\\n\", classification_rep)"
   ]
  },
  {
   "cell_type": "markdown",
   "metadata": {},
   "source": [
    "O modelo mantém um desempenho similar entre dados de treinamento e teste (acurácia de 0.64 em ambos), o que sugere boa generalização, mas o resultado continua moderado. A sensibilidade de 0.60 para a classe 1 é um ponto crítico, pois muitos casos de doença cardíaca podem não ser detectados."
   ]
  },
  {
   "cell_type": "code",
   "execution_count": null,
   "metadata": {},
   "outputs": [
    {
     "data": {
      "image/png": "[encoded data removed]",
      "text/plain": [
       "<Figure size 800x600 with 1 Axes>"
      ]
     },
     "metadata": {},
     "output_type": "display_data"
    }
   ],
   "source": [
    "# plotando o gráfico ROC\n",
    "fpr, tpr, thresholds = roc_curve(y_test, y_pred)\n",
    "roc_auc = roc_auc_score(y_test, y_pred)\n",
    "plt.figure(figsize=(8,6))\n",
    "plt.plot(fpr, tpr, color='blue', label=f'ROC curve (AUC = {roc_auc:.2f})')\n",
    "plt.plot([0, 1], [0, 1], color='red', linestyle='--')\n",
    "plt.xlabel('False Positive Rate')\n",
    "plt.ylabel('True Positive Rate')\n",
    "plt.title('Receiver Operating Characteristic (ROC) Curve')\n",
    "plt.legend(loc='lower right')\n",
    "plt.show()"
   ]
  },
  {
   "cell_type": "markdown",
   "metadata": {},
   "source": [
    "O modelo tem um desempenho razoável, mas o AUC de 0,64 indica que ele não é muito eficaz em separar as classes. Há espaço para melhorias, como ajustar o limiar ou otimizar o modelo para aumentar a área sob a curva."
   ]
  },
  {
   "cell_type": "markdown",
   "metadata": {
    "id": "eH2i4tegSpjt"
   },
   "source": [
    "# 7) Explique:\n",
    "\n",
    "A) Explique com suas palavras regressão logistica.\n",
    "\n",
    "B) Explique porque a regressão logistica é um modelo de classificação.\n",
    "\n",
    "C) Explique quais pontos em comum a regressão logistica tem da regressão linear.\n",
    "\n"
   ]
  },
  {
   "cell_type": "markdown",
   "metadata": {},
   "source": [
    "A) Regressão logística é um método estatístico que prevejo a probabilidade de um evento ocorrer, como se um paciente tem ou não uma doença. Ele usa a função sigmoide para transformar os resultados em valores entre 0 e 1\n",
    "\n",
    "B) A regressão logística é um modelo de classificação porque ela não prevê valores numéricos contínuos, mas sim categoriza os dados em classes (ex.: doente ou não doente) com base na probabilidade calculada, usando um limiar (geralmente 0,5) para decidir a classe.\n",
    "\n",
    "C) A regressão logística tem em comum com a regressão linear o uso de uma equação linear (combinação de variáveis com coeficientes) para modelar os dados. Ambas também dependem de suposições como a linearidade das variáveis e usam otimização para ajustar os parâmetros."
   ]
  }
 ],
 "metadata": {
  "colab": {
   "provenance": []
  },
  "kernelspec": {
   "display_name": "Python 3",
   "name": "python3"
  },
  "language_info": {
   "codemirror_mode": {
    "name": "ipython",
    "version": 3
   },
   "file_extension": ".py",
   "mimetype": "text/x-python",
   "name": "python",
   "nbconvert_exporter": "python",
   "pygments_lexer": "ipython3",
   "version": "3.13.7"
  }
 },
 "nbformat": 4,
 "nbformat_minor": 0
}
