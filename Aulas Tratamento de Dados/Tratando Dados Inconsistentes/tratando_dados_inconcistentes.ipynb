{
 "cells": [
  {
   "cell_type": "code",
   "execution_count": 2,
   "metadata": {},
   "outputs": [],
   "source": [
    "import pandas as pd\n",
    "import numpy as np"
   ]
  },
  {
   "cell_type": "code",
   "execution_count": 3,
   "metadata": {},
   "outputs": [
    {
     "data": {
      "text/html": [
       "<div>\n",
       "<style scoped>\n",
       "    .dataframe tbody tr th:only-of-type {\n",
       "        vertical-align: middle;\n",
       "    }\n",
       "\n",
       "    .dataframe tbody tr th {\n",
       "        vertical-align: top;\n",
       "    }\n",
       "\n",
       "    .dataframe thead th {\n",
       "        text-align: right;\n",
       "    }\n",
       "</style>\n",
       "<table border=\"1\" class=\"dataframe\">\n",
       "  <thead>\n",
       "    <tr style=\"text-align: right;\">\n",
       "      <th></th>\n",
       "      <th>nome</th>\n",
       "      <th>cpf</th>\n",
       "      <th>idade</th>\n",
       "      <th>data</th>\n",
       "      <th>endereco</th>\n",
       "      <th>estado</th>\n",
       "    </tr>\n",
       "  </thead>\n",
       "  <tbody>\n",
       "    <tr>\n",
       "      <th>0</th>\n",
       "      <td>Sr. Vitor Gabriel Silva</td>\n",
       "      <td>640.719.385-01</td>\n",
       "      <td>90</td>\n",
       "      <td>1933-12-06</td>\n",
       "      <td>Trevo Emanuel Silva, 482, Vila Tirol, 47847085...</td>\n",
       "      <td>Rondônia</td>\n",
       "    </tr>\n",
       "    <tr>\n",
       "      <th>1</th>\n",
       "      <td>Calebe Santos</td>\n",
       "      <td>651.297.384-46</td>\n",
       "      <td>40</td>\n",
       "      <td>1984-03-06</td>\n",
       "      <td>Recanto Moraes, 7, Ernesto Nascimento, 96497-6...</td>\n",
       "      <td>Rio de Janeiro</td>\n",
       "    </tr>\n",
       "    <tr>\n",
       "      <th>2</th>\n",
       "      <td>Evelyn Pires</td>\n",
       "      <td>107.643.528-90</td>\n",
       "      <td>80</td>\n",
       "      <td>1944-03-09</td>\n",
       "      <td>Travessa de Caldeira, 237, Santa Terezinha, 84...</td>\n",
       "      <td>Sergipe</td>\n",
       "    </tr>\n",
       "    <tr>\n",
       "      <th>3</th>\n",
       "      <td>Maria Julia Castro</td>\n",
       "      <td>164.750.293-43</td>\n",
       "      <td>76</td>\n",
       "      <td>1947-04-12</td>\n",
       "      <td>Residencial de Pereira, 20, Jatobá, 62127-165 ...</td>\n",
       "      <td>Pernambuco</td>\n",
       "    </tr>\n",
       "    <tr>\n",
       "      <th>4</th>\n",
       "      <td>Arthur Da Rosa</td>\n",
       "      <td>085.167.249-30</td>\n",
       "      <td>53</td>\n",
       "      <td>1970-04-16</td>\n",
       "      <td>Parque Almeida, 66, Vila Suzana Segunda Seção,...</td>\n",
       "      <td>Santa Catarina</td>\n",
       "    </tr>\n",
       "  </tbody>\n",
       "</table>\n",
       "</div>"
      ],
      "text/plain": [
       "                      nome             cpf  idade        data  \\\n",
       "0  Sr. Vitor Gabriel Silva  640.719.385-01     90  1933-12-06   \n",
       "1            Calebe Santos  651.297.384-46     40  1984-03-06   \n",
       "2             Evelyn Pires  107.643.528-90     80  1944-03-09   \n",
       "3       Maria Julia Castro  164.750.293-43     76  1947-04-12   \n",
       "4           Arthur Da Rosa  085.167.249-30     53  1970-04-16   \n",
       "\n",
       "                                            endereco          estado  \n",
       "0  Trevo Emanuel Silva, 482, Vila Tirol, 47847085...        Rondônia  \n",
       "1  Recanto Moraes, 7, Ernesto Nascimento, 96497-6...  Rio de Janeiro  \n",
       "2  Travessa de Caldeira, 237, Santa Terezinha, 84...         Sergipe  \n",
       "3  Residencial de Pereira, 20, Jatobá, 62127-165 ...      Pernambuco  \n",
       "4  Parque Almeida, 66, Vila Suzana Segunda Seção,...  Santa Catarina  "
      ]
     },
     "execution_count": 3,
     "metadata": {},
     "output_type": "execute_result"
    }
   ],
   "source": [
    "df = pd.read_csv('clientes_sem_outliers.csv')\n",
    "df.head()"
   ]
  },
  {
   "cell_type": "code",
   "execution_count": null,
   "metadata": {},
   "outputs": [],
   "source": []
  }
 ],
 "metadata": {
  "kernelspec": {
   "display_name": "Python 3",
   "language": "python",
   "name": "python3"
  },
  "language_info": {
   "codemirror_mode": {
    "name": "ipython",
    "version": 3
   },
   "file_extension": ".py",
   "mimetype": "text/x-python",
   "name": "python",
   "nbconvert_exporter": "python",
   "pygments_lexer": "ipython3",
   "version": "3.12.3"
  }
 },
 "nbformat": 4,
 "nbformat_minor": 2
}
