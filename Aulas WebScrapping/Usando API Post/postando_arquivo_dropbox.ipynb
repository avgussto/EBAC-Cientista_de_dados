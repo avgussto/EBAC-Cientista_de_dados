{
 "cells": [
  {
   "cell_type": "code",
   "execution_count": null,
   "metadata": {},
   "outputs": [
    {
     "name": "stdout",
     "output_type": "stream",
     "text": [
      "Arquivo enviado com sucesso!\n",
      "Resposta: {'name': 'produtos_informatica.xlsx', 'path_lower': '/teste/produtos_informatica.xlsx', 'path_display': '/teste/produtos_informatica.xlsx', 'id': 'id:j5PKWeOqq1gAAAAAAAAACQ', 'client_modified': '2025-02-20T02:25:10Z', 'server_modified': '2025-02-20T02:25:11Z', 'rev': '0162e8995576e7300000002d1ecc251', 'size': 7505, 'is_downloadable': True, 'content_hash': '0a5b421583e5cbb4179bd8532ef50c5bb8e2ffb6bbdc7fd5716a7206b3ff7bca'}\n"
     ]
    }
   ],
   "source": [
    "import requests\n",
    "\n",
    "access_token = 'SEU TOKEN DROPBOX'  # Token de acesso do Dropbox\n",
    "\n",
    "file_path = r'Caminho Arquivo'  # Caminho do arquivo a ser enviado\n",
    "\n",
    "dropbox_path = 'Arquivo Destino'  # Caminho de destino no Dropbox\n",
    "\n",
    "upload_url = 'https://content.dropboxapi.com/2/files/upload'\n",
    "\n",
    "# Abrindo o arquivo para enviar\n",
    "with open(file_path, 'rb') as file:\n",
    "    # Cabeçalhos para a requisição\n",
    "    headers = {\n",
    "        'Authorization': f'Bearer {access_token}',  # Token de acesso\n",
    "        'Content-Type': 'application/octet-stream',  # Tipo de conteúdo para upload de arquivos binários\n",
    "        'Dropbox-API-Arg': f'{{\"path\": \"{dropbox_path}\", \"mode\": \"add\", \"autorename\": true, \"mute\": false}}'\n",
    "    }\n",
    "    \n",
    "    # Fazendo a requisição POST para o Dropbox\n",
    "    response = requests.post(upload_url, headers=headers, data=file)\n",
    "\n",
    "    # Verificando a resposta\n",
    "    if response.status_code == 200:\n",
    "        print(\"Arquivo enviado com sucesso!\")\n",
    "        print(\"Resposta:\", response.json())  # Exibe a resposta em formato JSON\n",
    "    else:\n",
    "        print(f\"Erro ao enviar o arquivo. Status Code: {response.status_code}\")\n",
    "        print(\"Erro:\", response.text)"
   ]
  }
 ],
 "metadata": {
  "kernelspec": {
   "display_name": "Python 3",
   "language": "python",
   "name": "python3"
  },
  "language_info": {
   "codemirror_mode": {
    "name": "ipython",
    "version": 3
   },
   "file_extension": ".py",
   "mimetype": "text/x-python",
   "name": "python",
   "nbconvert_exporter": "python",
   "pygments_lexer": "ipython3",
   "version": "3.13.2"
  }
 },
 "nbformat": 4,
 "nbformat_minor": 2
}
