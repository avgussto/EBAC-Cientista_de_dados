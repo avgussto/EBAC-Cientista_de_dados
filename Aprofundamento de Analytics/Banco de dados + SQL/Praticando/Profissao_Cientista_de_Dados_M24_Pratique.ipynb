{
  "nbformat": 4,
  "nbformat_minor": 0,
  "metadata": {
    "colab": {
      "provenance": []
    },
    "kernelspec": {
      "name": "python3",
      "display_name": "Python 3"
    },
    "language_info": {
      "name": "python"
    }
  },
  "cells": [
    {
      "cell_type": "markdown",
      "source": [
        "# **MÓDULO 24 - Bancos de Dados + SQL**"
      ],
      "metadata": {
        "id": "4T5dCtwYXFS0"
      }
    },
    {
      "cell_type": "markdown",
      "source": [
        "Para nossa atividade inicial de SQL trabalharemos com uma base de vendas.\n",
        "Abaixo temos o ambiente de preparo para trabalharmos com o SQL lite."
      ],
      "metadata": {
        "id": "tGub_MhcXTfu"
      }
    },
    {
      "cell_type": "code",
      "execution_count": null,
      "metadata": {
        "id": "eQtWi0CfXCPn"
      },
      "outputs": [],
      "source": [
        "import sqlite3 #Importando a biblioteca necessária\n",
        "import pandas as pd"
      ]
    },
    {
      "cell_type": "code",
      "source": [
        "df_vendas = pd.read_csv(\"TB_VENDAS_TAREFA.csv\", delimiter=';')"
      ],
      "metadata": {
        "id": "yKsW2EEpXQTK"
      },
      "execution_count": null,
      "outputs": []
    },
    {
      "cell_type": "code",
      "source": [
        "conn = sqlite3.connect(':memory:')\n",
        "df_vendas.to_sql('tb_vendas', conn, index=False, if_exists='replace')"
      ],
      "metadata": {
        "colab": {
          "base_uri": "https://localhost:8080/"
        },
        "id": "vbdvMKZgXtT5",
        "outputId": "4c38dac3-540e-4a1f-9ed3-8d376c80bdfd"
      },
      "execution_count": null,
      "outputs": [
        {
          "output_type": "execute_result",
          "data": {
            "text/plain": [
              "24"
            ]
          },
          "metadata": {},
          "execution_count": 5
        }
      ]
    },
    {
      "cell_type": "code",
      "source": [
        "def run_query(query):\n",
        "    return pd.read_sql_query(query, conn)"
      ],
      "metadata": {
        "id": "Z3-elg3aXuiM"
      },
      "execution_count": null,
      "outputs": []
    },
    {
      "cell_type": "markdown",
      "source": [
        "# 1) Faça uma consulta que retorne todos os dados da nossa tabela de vendas, com todas linhas e todas colunas.\n"
      ],
      "metadata": {
        "id": "Z_EFXuNLXz7m"
      }
    },
    {
      "cell_type": "code",
      "source": [
        "query = \"select * from tb_vendas;\"\n",
        "result_df = run_query(query)\n",
        "print(result_df)"
      ],
      "metadata": {
        "id": "XQr_MBvmb4yC",
        "colab": {
          "base_uri": "https://localhost:8080/"
        },
        "outputId": "5cc166b0-d20a-42dd-d5a5-1e78dd7000ee"
      },
      "execution_count": null,
      "outputs": [
        {
          "output_type": "stream",
          "name": "stdout",
          "text": [
            "    ID_COMPRA  ID_CLIENTE   PRODUTO VALOR_UNID  UNIDADES\n",
            "0        1247        9081  CAMISETA       34,5         2\n",
            "1        1248        9081     CALCA       89,9         1\n",
            "2        1250        9560  CAMISETA       34,5         1\n",
            "3        1249        9630   BERMUDA       79,5         2\n",
            "4        1251        9425  CAMISETA       34,5         3\n",
            "5        1252        9425   VESTIDO        102         1\n",
            "6        1253        9481     CALCA       89,9         2\n",
            "7        1254        9785      MEIA       25,9         1\n",
            "8        1255        9786     CALCA       89,9         2\n",
            "9        1256        9787   VESTIDO        102         1\n",
            "10       1257        9788     CALCA       89,9         2\n",
            "11       1258        9789  CAMISETA       34,5         3\n",
            "12       1259        9790  CAMISETA       34,5         1\n",
            "13       1260        9791   BERMUDA       79,5         2\n",
            "14       1261        9792  CAMISETA       34,5         2\n",
            "15       1262        9793     CALCA       89,9         2\n",
            "16       1263        9794     CALCA       89,9         1\n",
            "17       1264        9795   BERMUDA       79,5         2\n",
            "18       1265        9796  CAMISETA       34,5         4\n",
            "19       1266        9797  CAMISETA       34,5         1\n",
            "20       1267        9798   VESTIDO        102         2\n",
            "21       1268        9799      MEIA       25,9         3\n",
            "22       1269        9800  CAMISETA       34,5         2\n",
            "23       1270        9801     CALCA       89,9         1\n"
          ]
        }
      ]
    },
    {
      "cell_type": "markdown",
      "source": [
        "# 2) Faça uma consulta que retorne apenas 10 linhas da coluna produto.\n"
      ],
      "metadata": {
        "id": "nyhYEkRLYMNY"
      }
    },
    {
      "cell_type": "code",
      "source": [
        "query = \"select produto from tb_vendas limit 10\"\n",
        "result_df = run_query(query)\n",
        "print(result_df)"
      ],
      "metadata": {
        "id": "LfKnVQUCYLxE",
        "colab": {
          "base_uri": "https://localhost:8080/"
        },
        "outputId": "9f96822d-54b5-46ea-c269-b5a3665f8060"
      },
      "execution_count": null,
      "outputs": [
        {
          "output_type": "stream",
          "name": "stdout",
          "text": [
            "    PRODUTO\n",
            "0  CAMISETA\n",
            "1     CALCA\n",
            "2  CAMISETA\n",
            "3   BERMUDA\n",
            "4  CAMISETA\n",
            "5   VESTIDO\n",
            "6     CALCA\n",
            "7      MEIA\n",
            "8     CALCA\n",
            "9   VESTIDO\n"
          ]
        }
      ]
    },
    {
      "cell_type": "markdown",
      "source": [
        "# 3) Faça uma consulta que retorne a média do valor por unidade e também das unidades vendidas. Não se esqueça de renomear o nome das colunas ao cria-las."
      ],
      "metadata": {
        "id": "-hqcrP6CYiGF"
      }
    },
    {
      "cell_type": "code",
      "source": [
        "query = \"select avg(valor_unid) as media_valor_unid, avg(unidades) as media_unidades from tb_vendas;\"\n",
        "result_df = run_query(query)\n",
        "print(result_df)"
      ],
      "metadata": {
        "id": "v1aJMTkMYhm4",
        "colab": {
          "base_uri": "https://localhost:8080/"
        },
        "outputId": "105cbc29-a77f-4379-8966-0813c6aef5b0"
      },
      "execution_count": null,
      "outputs": [
        {
          "output_type": "stream",
          "name": "stdout",
          "text": [
            "   media_valor_unid  media_unidades\n",
            "0         63.416667        1.833333\n"
          ]
        }
      ]
    },
    {
      "cell_type": "markdown",
      "source": [
        "# 4) Note que na nossa tabela não temos o total de valor gasto por compra, temos o valor do produto e a quantidade vendida, para termos o valor total precisamos multiplicar essas duas colunas e para multiplicar colunas usamos o *.\n",
        "# Faça uma consulta que retorne a coluna ID_COMPRA, ID_CLIENTE e o valor total gasto.\n",
        "\n",
        "Ex: SELECT TICKET_MEDIO*UNIDADE FROM TB_EXEMPLO"
      ],
      "metadata": {
        "id": "UJUIsVjAY8Jz"
      }
    },
    {
      "cell_type": "code",
      "source": [
        "query = \"select id_compra, id_cliente, valor_unid*unidades as valor_da_compra from tb_vendas\"\n",
        "result_df = run_query(query)\n",
        "print(result_df)"
      ],
      "metadata": {
        "id": "rNQfkp6RY7qa",
        "colab": {
          "base_uri": "https://localhost:8080/"
        },
        "outputId": "f3677e8c-e4e7-490f-b399-6aecf0daddac"
      },
      "execution_count": null,
      "outputs": [
        {
          "output_type": "stream",
          "name": "stdout",
          "text": [
            "    ID_COMPRA  ID_CLIENTE  valor_da_compra\n",
            "0        1247        9081               68\n",
            "1        1248        9081               89\n",
            "2        1250        9560               34\n",
            "3        1249        9630              158\n",
            "4        1251        9425              102\n",
            "5        1252        9425              102\n",
            "6        1253        9481              178\n",
            "7        1254        9785               25\n",
            "8        1255        9786              178\n",
            "9        1256        9787              102\n",
            "10       1257        9788              178\n",
            "11       1258        9789              102\n",
            "12       1259        9790               34\n",
            "13       1260        9791              158\n",
            "14       1261        9792               68\n",
            "15       1262        9793              178\n",
            "16       1263        9794               89\n",
            "17       1264        9795              158\n",
            "18       1265        9796              136\n",
            "19       1266        9797               34\n",
            "20       1267        9798              204\n",
            "21       1268        9799               75\n",
            "22       1269        9800               68\n",
            "23       1270        9801               89\n"
          ]
        }
      ]
    },
    {
      "cell_type": "markdown",
      "source": [
        "# 5) [DESAFIO] Faça uma consulta que traz a média do valor total gasto que foi calculado no exercício anterior. Note que não queremos a média por pedido e sim a média total, apenas essa informação deve vir na consulta."
      ],
      "metadata": {
        "id": "tuTDx7W3Zxlp"
      }
    },
    {
      "cell_type": "code",
      "source": [
        "query = \"select avg(valor_unid*unidades) as media_valor_total_gasto from tb_vendas\"\n",
        "result_df = run_query(query)\n",
        "# Exibir o resultado\n",
        "print(result_df)"
      ],
      "metadata": {
        "id": "UPUskwJoaEgy",
        "colab": {
          "base_uri": "https://localhost:8080/"
        },
        "outputId": "ec841c31-5d52-4a94-898b-0c8aa8849466"
      },
      "execution_count": null,
      "outputs": [
        {
          "output_type": "stream",
          "name": "stdout",
          "text": [
            "   media_valor_total_gasto\n",
            "0                  108.625\n"
          ]
        }
      ]
    },
    {
      "cell_type": "markdown",
      "source": [
        "# 6) Diferencie com suas palavras, considerando o repertório que tem criado da área de dados, a utilidade do SQL e do Python para ciência de dados.\n",
        "Minimo 2 linhas."
      ],
      "metadata": {
        "id": "0ezDHHigaONG"
      }
    },
    {
      "cell_type": "markdown",
      "source": [
        "### SQL se relaciona com toda a parte de criação do banco, inserção, remoção e consulta dos dados, muitas vezes acaba sendo mais conveniente do que o python para consultar porque já se o utiliza dentro do própio ambiente do banco, como dentro do SQL Server por exemplo. Já o python funciona melhor para conhecer os dados e retirar insights mais profundos deles, com um entendimento melhor utilizando gráficos e a maior facilidade da utilização de conhecimentos estatísticos, além de obviamente servir para o aprendizado de máquina."
      ],
      "metadata": {
        "id": "YcB1pACKCmXu"
      }
    },
    {
      "cell_type": "markdown",
      "source": [
        "#7) Diferencie com suas palavras banco de dados relacionais de não relacionais.\n",
        "Minimo 3 linhas."
      ],
      "metadata": {
        "id": "F1xh_-UPaZU2"
      }
    },
    {
      "cell_type": "markdown",
      "source": [
        "### Bancos de dados relacionais trabalham com dados estruturados, como texto, utilizando tabelas que muitas vezes se relacionam e são utilizados pela grande maioria das empresas. Já Banco de dados não relacionais trabalham com dados não estruturados, como vídeos e fotos, e são utilizados em casos mais específicos, não necessariamente funcionando de forma tabular."
      ],
      "metadata": {
        "id": "vwYbnzkNHR0X"
      }
    },
    {
      "cell_type": "markdown",
      "source": [
        "#8) Queremos saber da sua opinião, acredita que o SQL pode ser mais prático que o Python para consultas rápidas? Justifique.\n",
        "Muitas vezes durante a carreia você terá que escolher qual linguagem utilizar para cada momento afim de entregar o que é solicitado o mais rápido e com qualidade possível, exercite sua argumentação = )\n",
        "\n",
        "Minimo 3 linhas."
      ],
      "metadata": {
        "id": "GkKpxl52atNQ"
      }
    },
    {
      "cell_type": "markdown",
      "source": [
        "### Depende de alguns fatores, por exemplo, dentro do collab não tenho muita certeza pois levo em consideração o tempo para conectar com o banco e carregar os dados, comparado com o CSV que normalmente é entregue, mas mesmo levando isso em consideração, acho que para consultas rápidas o SQL é mais prático, pois sua sintaxe é mais simples e muitas vezes conectar no banco e utilizar o SQL pode ser mais prático do que recortar os dados ou copiá-los para um CSV para depois fazer as consultas dentro do ambiente python.\n"
      ],
      "metadata": {
        "id": "MhdMoBl9IWQd"
      }
    }
  ]
}