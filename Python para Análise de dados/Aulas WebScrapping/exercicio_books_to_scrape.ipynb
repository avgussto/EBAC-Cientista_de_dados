{
 "cells": [
  {
   "cell_type": "code",
   "execution_count": 2,
   "metadata": {},
   "outputs": [],
   "source": [
    "import requests\n",
    "from bs4 import BeautifulSoup\n",
    "import pandas as pd\n",
    "requests.packages.urllib3.disable_warnings()"
   ]
  },
  {
   "cell_type": "code",
   "execution_count": null,
   "metadata": {},
   "outputs": [
    {
     "name": "stdout",
     "output_type": "stream",
     "text": [
      "<!DOCTYPE html>\n",
      "<!--[if lt IE 7]>      <html lang=\"en-us\" class=\"no-js lt-ie9 lt-ie8 lt-ie7\"> <![endif]-->\n",
      "<!--[if IE 7]>         <html lang=\"en-us\" class=\"no-js lt-ie9 lt-ie8\"> <![endif]-->\n",
      "<!--[if IE 8]>         <html lang=\"en-us\" class=\"no-js lt-ie9\"> <![endif]-->\n",
      "<!--[if gt IE 8]><!-->\n",
      "<html class=\"no-js\" lang=\"en-us\">\n",
      " <!--<![endif]-->\n",
      " <head>\n",
      "  <title>\n",
      "   All products | Books to Scrape - Sandbox\n",
      "  </title>\n",
      "  <meta content=\"text/html; charset=utf-8\" http-equiv=\"content-type\"/>\n",
      "  <meta content=\"24th Jun 2016 09:29\" name=\"created\"/>\n",
      "  <meta content=\"\" name=\"description\"/>\n",
      "  <meta content=\"width=device-width\" name=\"viewport\"/>\n",
      "  <meta content=\"NOARCHIVE,NOCACHE\" name=\"robots\"/>\n",
      "  <!-- Le HTML5 shim, for IE6-8 support of HTML elements -->\n",
      "  <!--[if lt IE 9]>\n",
      "        <script src=\"//html5shim.googlecode.com/svn/trunk/html5.js\"></script>\n",
      "        <![endif]-->\n",
      "  <link href=\"static/oscar/favicon.ico\" rel=\"shortcut icon\"/>\n",
      "  <link href=\"static/oscar/css/styles.css\" rel=\"stylesheet\" type=\"text/css\"/>\n",
      "  <link href=\"static/oscar/js/bootstrap-datetimepicker/bootstrap-datetimepicker.css\" rel=\"stylesheet\"/>\n",
      "  <link href=\"static/oscar/css/datetimepicker.css\" rel=\"stylesheet\" type=\"text/css\"/>\n",
      " </head>\n",
      " <body class=\"default\" id=\"default\">\n",
      "  <header class=\"header container-fluid\">\n",
      "   <div class=\"page_inner\">\n",
      "    <div class=\"row\">\n",
      "     <div class=\"col-sm-8 h1\">\n",
      "      <a href=\"index.html\">\n",
      "       Books to Scrape\n",
      "      </a>\n",
      "      <small>\n",
      "       We love being scraped!\n",
      "      </small>\n",
      "     </div>\n",
      "    </div>\n",
      "   </div>\n",
      "  </header>\n",
      "  <div class=\"container-fluid page\">\n",
      "   <div class=\"page_inner\">\n",
      "    <ul class=\"breadcrumb\">\n",
      "     <li>\n",
      "      <a href=\"index.html\">\n",
      "       Home\n",
      "      </a>\n",
      "     </li>\n",
      "     <li class=\"active\">\n",
      "      All products\n",
      "     </li>\n",
      "    </ul>\n",
      "    <div class=\"row\">\n",
      "     <aside class=\"sidebar col-sm-4 col-md-3\">\n",
      "      <div id=\"promotions_left\">\n",
      "      </div>\n",
      "      <div class=\"side_categories\">\n",
      "       <ul class=\"nav nav-list\">\n",
      "        <li>\n",
      "         <a href=\"catalogue/category/bo\n"
     ]
    }
   ],
   "source": [
    "url = 'https://books.toscrape.com/'\n",
    "requisicao = requests.get(url)\n",
    "requisicao.encoding = 'utf-8'\n",
    "\n",
    "# Escreve seu código abaixo\n",
    "extracao = BeautifulSoup(requisicao.text, features='html.parser')\n",
    "\n",
    "# Printando as primeiras 2000 letras do HTML\n",
    "print(extracao.prettify()[0:2000])"
   ]
  },
  {
   "cell_type": "code",
   "execution_count": null,
   "metadata": {},
   "outputs": [
    {
     "name": "stdout",
     "output_type": "stream",
     "text": [
      "Total livros: 20\n"
     ]
    }
   ],
   "source": [
    "contar_livros = 0\n",
    "catalogo = []\n",
    "\n",
    "#Extraindo os livros\n",
    "for artigo in extracao.find_all('article', class_='product_pod'):\n",
    "    livro = {}\n",
    "    \n",
    "    #Extraindo o titulo\n",
    "    for titulo in artigo.find_all('h3'):    \n",
    "        titulo_livro = titulo.text.strip()\n",
    "        livro['Título'] = titulo_livro\n",
    "        contar_livros += 1\n",
    "        \n",
    "    #Extraindo o preco\n",
    "    for preco in artigo.find_all('p', class_='price_color'):\n",
    "        preco = preco.text.strip().replace('Â£', '£')\n",
    "        livro['Preço'] = preco\n",
    "    \n",
    "    #Adicionando o livro ao catalogo\n",
    "    catalogo.append(livro)\n",
    "\n",
    "print('Total livros:', contar_livros)"
   ]
  },
  {
   "cell_type": "code",
   "execution_count": null,
   "metadata": {},
   "outputs": [],
   "source": []
  }
 ],
 "metadata": {
  "kernelspec": {
   "display_name": "Python 3",
   "language": "python",
   "name": "python3"
  },
  "language_info": {
   "codemirror_mode": {
    "name": "ipython",
    "version": 3
   },
   "file_extension": ".py",
   "mimetype": "text/x-python",
   "name": "python",
   "nbconvert_exporter": "python",
   "pygments_lexer": "ipython3",
   "version": "3.13.2"
  }
 },
 "nbformat": 4,
 "nbformat_minor": 2
}
