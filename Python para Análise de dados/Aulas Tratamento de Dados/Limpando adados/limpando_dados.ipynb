{
 "cells": [
  {
   "cell_type": "code",
   "execution_count": 4,
   "metadata": {},
   "outputs": [],
   "source": [
    "import pandas as pd\n",
    "import numpy as np\n",
    "import re "
   ]
  },
  {
   "cell_type": "code",
   "execution_count": 5,
   "metadata": {},
   "outputs": [
    {
     "data": {
      "text/html": [
       "<div>\n",
       "<style scoped>\n",
       "    .dataframe tbody tr th:only-of-type {\n",
       "        vertical-align: middle;\n",
       "    }\n",
       "\n",
       "    .dataframe tbody tr th {\n",
       "        vertical-align: top;\n",
       "    }\n",
       "\n",
       "    .dataframe thead th {\n",
       "        text-align: right;\n",
       "    }\n",
       "</style>\n",
       "<table border=\"1\" class=\"dataframe\">\n",
       "  <thead>\n",
       "    <tr style=\"text-align: right;\">\n",
       "      <th></th>\n",
       "      <th>nome</th>\n",
       "      <th>cpf</th>\n",
       "      <th>idade</th>\n",
       "      <th>data</th>\n",
       "      <th>endereco</th>\n",
       "      <th>estado</th>\n",
       "      <th>pais</th>\n",
       "    </tr>\n",
       "  </thead>\n",
       "  <tbody>\n",
       "    <tr>\n",
       "      <th>0</th>\n",
       "      <td>Sr. Vitor Gabriel Silva</td>\n",
       "      <td>640.719.385-01</td>\n",
       "      <td>90</td>\n",
       "      <td>06/12/1933</td>\n",
       "      <td>Trevo Emanuel Silva, 482\\r\\nVila Tirol\\r\\n4784...</td>\n",
       "      <td>Rondônia</td>\n",
       "      <td>Brasil</td>\n",
       "    </tr>\n",
       "    <tr>\n",
       "      <th>1</th>\n",
       "      <td>Calebe Santos</td>\n",
       "      <td>651.297.384-46</td>\n",
       "      <td>40</td>\n",
       "      <td>06/03/1984</td>\n",
       "      <td>Recanto Moraes, 7\\r\\nErnesto Nascimento\\r\\n964...</td>\n",
       "      <td>Rio de Janeiro</td>\n",
       "      <td>Brasil</td>\n",
       "    </tr>\n",
       "    <tr>\n",
       "      <th>2</th>\n",
       "      <td>Evelyn Pires</td>\n",
       "      <td>107.643.528-90</td>\n",
       "      <td>80</td>\n",
       "      <td>09/03/1944</td>\n",
       "      <td>Travessa de Caldeira, 237\\r\\nSanta Terezinha\\r...</td>\n",
       "      <td>Sergipe</td>\n",
       "      <td>Brasil</td>\n",
       "    </tr>\n",
       "    <tr>\n",
       "      <th>3</th>\n",
       "      <td>Maria Julia Castro</td>\n",
       "      <td>164.750.293-43</td>\n",
       "      <td>76</td>\n",
       "      <td>12/04/1947</td>\n",
       "      <td>Residencial de Pereira, 20\\r\\nJatobá\\r\\n62127-...</td>\n",
       "      <td>Pernambuco</td>\n",
       "      <td>Brasil</td>\n",
       "    </tr>\n",
       "    <tr>\n",
       "      <th>4</th>\n",
       "      <td>Arthur da Rosa</td>\n",
       "      <td>085.167.249-30</td>\n",
       "      <td>53</td>\n",
       "      <td>16/04/1970</td>\n",
       "      <td>Parque Almeida, 66\\r\\nVila Suzana Segunda Seçã...</td>\n",
       "      <td>Santa Catarina</td>\n",
       "      <td>Brasil</td>\n",
       "    </tr>\n",
       "  </tbody>\n",
       "</table>\n",
       "</div>"
      ],
      "text/plain": [
       "                      nome             cpf  idade        data  \\\n",
       "0  Sr. Vitor Gabriel Silva  640.719.385-01     90  06/12/1933   \n",
       "1            Calebe Santos  651.297.384-46     40  06/03/1984   \n",
       "2             Evelyn Pires  107.643.528-90     80  09/03/1944   \n",
       "3       Maria Julia Castro  164.750.293-43     76  12/04/1947   \n",
       "4           Arthur da Rosa  085.167.249-30     53  16/04/1970   \n",
       "\n",
       "                                            endereco          estado    pais  \n",
       "0  Trevo Emanuel Silva, 482\\r\\nVila Tirol\\r\\n4784...        Rondônia  Brasil  \n",
       "1  Recanto Moraes, 7\\r\\nErnesto Nascimento\\r\\n964...  Rio de Janeiro  Brasil  \n",
       "2  Travessa de Caldeira, 237\\r\\nSanta Terezinha\\r...         Sergipe  Brasil  \n",
       "3  Residencial de Pereira, 20\\r\\nJatobá\\r\\n62127-...      Pernambuco  Brasil  \n",
       "4  Parque Almeida, 66\\r\\nVila Suzana Segunda Seçã...  Santa Catarina  Brasil  "
      ]
     },
     "execution_count": 5,
     "metadata": {},
     "output_type": "execute_result"
    }
   ],
   "source": [
    "df = pd.read_csv('clientes.csv')\n",
    "\n",
    "df.head()"
   ]
  },
  {
   "cell_type": "code",
   "execution_count": 6,
   "metadata": {},
   "outputs": [],
   "source": [
    "# Removendo a coluna pais porque o unico valor nela é Brasil\n",
    "df = df.drop('pais', axis=1)"
   ]
  },
  {
   "cell_type": "code",
   "execution_count": 7,
   "metadata": {},
   "outputs": [],
   "source": [
    "# Normalizando as colunas\n",
    "df['nome'] = df['nome'].str.title()\n",
    "df['idade'] = df['idade'].astype('int')\n",
    "df['data'] = pd.to_datetime(df['data'], format='%d/%m/%Y', errors='coerce')"
   ]
  },
  {
   "cell_type": "code",
   "execution_count": 8,
   "metadata": {},
   "outputs": [
    {
     "name": "stdout",
     "output_type": "stream",
     "text": [
      "Número de nulos no df\n",
      "nome        0\n",
      "cpf         0\n",
      "idade       0\n",
      "data        9\n",
      "endereco    0\n",
      "estado      0\n",
      "dtype: int64\n"
     ]
    }
   ],
   "source": [
    "# Tratando os nulos e registros inconsistentes\n",
    "df = df.dropna(subset=['cpf'])\n",
    "\n",
    "df['endereco'] = df['endereco'].fillna('Sem endereco')\n",
    "\n",
    "df['endereco'] = df['endereco'].apply(lambda x: \"Sem endereco\" if   len(x.split('\\n')) < 3 else x)\n",
    "df['endereco'] = df['endereco'].apply(lambda x: re.sub(r'[\\n\\r]+', ', ', x))\n",
    "\n",
    "df['idade'] = df['idade'].fillna(df['idade'].mean())\n",
    "\n",
    "df['nome'] = df['nome'].fillna('Sem nome')\n",
    "df['nome'] = df['nome'].apply(lambda x: 'Sem nome' if  isinstance(x, str) and len(x) > 70 else x)\n",
    "\n",
    "df['estado'] = df['estado'].fillna('Sem endereco')\n",
    "\n",
    "print(f'Número de nulos no df\\n{df.isnull().sum()}')"
   ]
  },
  {
   "cell_type": "code",
   "execution_count": 9,
   "metadata": {},
   "outputs": [
    {
     "name": "stdout",
     "output_type": "stream",
     "text": [
      "Número de nulos no df\n",
      "nome        0\n",
      "cpf         0\n",
      "idade       0\n",
      "data        9\n",
      "endereco    0\n",
      "estado      0\n",
      "dtype: int64\n",
      "Número de duplicados no df 0\n"
     ]
    }
   ],
   "source": [
    "# Dropando os duplicados usando o cpf como base\n",
    "df = df.drop_duplicates(subset=['cpf'])\n",
    "\n",
    "# Df sem nulos e sem duplicados\n",
    "print(f'Número de nulos no df\\n{df.isnull().sum()}')\n",
    "print(f'Número de duplicados no df {df.duplicated().sum()}')"
   ]
  },
  {
   "cell_type": "code",
   "execution_count": 10,
   "metadata": {},
   "outputs": [
    {
     "data": {
      "text/html": [
       "<div>\n",
       "<style scoped>\n",
       "    .dataframe tbody tr th:only-of-type {\n",
       "        vertical-align: middle;\n",
       "    }\n",
       "\n",
       "    .dataframe tbody tr th {\n",
       "        vertical-align: top;\n",
       "    }\n",
       "\n",
       "    .dataframe thead th {\n",
       "        text-align: right;\n",
       "    }\n",
       "</style>\n",
       "<table border=\"1\" class=\"dataframe\">\n",
       "  <thead>\n",
       "    <tr style=\"text-align: right;\">\n",
       "      <th></th>\n",
       "      <th>nome</th>\n",
       "      <th>cpf</th>\n",
       "      <th>idade</th>\n",
       "      <th>data</th>\n",
       "      <th>endereco</th>\n",
       "      <th>estado</th>\n",
       "    </tr>\n",
       "  </thead>\n",
       "  <tbody>\n",
       "    <tr>\n",
       "      <th>0</th>\n",
       "      <td>Sr. Vitor Gabriel Silva</td>\n",
       "      <td>640.719.385-01</td>\n",
       "      <td>90</td>\n",
       "      <td>1933-12-06</td>\n",
       "      <td>Trevo Emanuel Silva, 482, Vila Tirol, 47847085...</td>\n",
       "      <td>Rondônia</td>\n",
       "    </tr>\n",
       "    <tr>\n",
       "      <th>1</th>\n",
       "      <td>Calebe Santos</td>\n",
       "      <td>651.297.384-46</td>\n",
       "      <td>40</td>\n",
       "      <td>1984-03-06</td>\n",
       "      <td>Recanto Moraes, 7, Ernesto Nascimento, 96497-6...</td>\n",
       "      <td>Rio de Janeiro</td>\n",
       "    </tr>\n",
       "    <tr>\n",
       "      <th>2</th>\n",
       "      <td>Evelyn Pires</td>\n",
       "      <td>107.643.528-90</td>\n",
       "      <td>80</td>\n",
       "      <td>1944-03-09</td>\n",
       "      <td>Travessa de Caldeira, 237, Santa Terezinha, 84...</td>\n",
       "      <td>Sergipe</td>\n",
       "    </tr>\n",
       "    <tr>\n",
       "      <th>3</th>\n",
       "      <td>Maria Julia Castro</td>\n",
       "      <td>164.750.293-43</td>\n",
       "      <td>76</td>\n",
       "      <td>1947-04-12</td>\n",
       "      <td>Residencial de Pereira, 20, Jatobá, 62127-165 ...</td>\n",
       "      <td>Pernambuco</td>\n",
       "    </tr>\n",
       "    <tr>\n",
       "      <th>4</th>\n",
       "      <td>Arthur Da Rosa</td>\n",
       "      <td>085.167.249-30</td>\n",
       "      <td>53</td>\n",
       "      <td>1970-04-16</td>\n",
       "      <td>Parque Almeida, 66, Vila Suzana Segunda Seção,...</td>\n",
       "      <td>Santa Catarina</td>\n",
       "    </tr>\n",
       "  </tbody>\n",
       "</table>\n",
       "</div>"
      ],
      "text/plain": [
       "                      nome             cpf  idade       data  \\\n",
       "0  Sr. Vitor Gabriel Silva  640.719.385-01     90 1933-12-06   \n",
       "1            Calebe Santos  651.297.384-46     40 1984-03-06   \n",
       "2             Evelyn Pires  107.643.528-90     80 1944-03-09   \n",
       "3       Maria Julia Castro  164.750.293-43     76 1947-04-12   \n",
       "4           Arthur Da Rosa  085.167.249-30     53 1970-04-16   \n",
       "\n",
       "                                            endereco          estado  \n",
       "0  Trevo Emanuel Silva, 482, Vila Tirol, 47847085...        Rondônia  \n",
       "1  Recanto Moraes, 7, Ernesto Nascimento, 96497-6...  Rio de Janeiro  \n",
       "2  Travessa de Caldeira, 237, Santa Terezinha, 84...         Sergipe  \n",
       "3  Residencial de Pereira, 20, Jatobá, 62127-165 ...      Pernambuco  \n",
       "4  Parque Almeida, 66, Vila Suzana Segunda Seção,...  Santa Catarina  "
      ]
     },
     "execution_count": 10,
     "metadata": {},
     "output_type": "execute_result"
    }
   ],
   "source": [
    "# DF final\n",
    "df.head()"
   ]
  },
  {
   "cell_type": "code",
   "execution_count": 11,
   "metadata": {},
   "outputs": [],
   "source": [
    "df.to_csv('clientes_tratados.csv', index=False)"
   ]
  }
 ],
 "metadata": {
  "kernelspec": {
   "display_name": "Python 3",
   "language": "python",
   "name": "python3"
  },
  "language_info": {
   "codemirror_mode": {
    "name": "ipython",
    "version": 3
   },
   "file_extension": ".py",
   "mimetype": "text/x-python",
   "name": "python",
   "nbconvert_exporter": "python",
   "pygments_lexer": "ipython3",
   "version": "3.13.2"
  }
 },
 "nbformat": 4,
 "nbformat_minor": 2
}
